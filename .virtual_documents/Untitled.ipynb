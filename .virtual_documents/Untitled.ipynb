import pandas as pd

import numpy as np

from matplotlib import pyplot as plt


df = pd.read_excel("./data/well_data.xlsx")


df.columns


df = df[["Data ID",
         "Address",
         "City","State",
         "ZipCode",
         "Well Permit #",
         "STARLIMS ID",
         "Collection Date",
         "Sampling Point",
         "Arsenic"]]


df.columns = ["id","add","city","state","zip","permitno","altid","date","sample_point","ar"]


df.columns


na_check = master_energy.drop(columns={'plant'})
