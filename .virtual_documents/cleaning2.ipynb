import pandas as pd

import numpy as np

from matplotlib import pyplot as plt


df = pd.read_excel("./data/unc_data.xlsx", converters={'Collection Date':str})


df.columns


df = df[["Data ID",
         "Address",
         "City","State",
         "ZipCode",
         "Well Permit #",
         "STARLIMS ID",
         "Collection Date",
         "Sampling Point",
         "Arsenic"]]


df.columns = ["id","add","city","state","zip","permitno","altid","date","sample_point","ar"]


df.columns


#na_check = df.drop(columns={'plant'})
import missingno as msno
msno.matrix(df, sparkline=False, figsize=(15,15), fontsize=12, color=(0.27, 0.52, 1.0));


df['date'].head()


df['date'].tail()


df['date'] = df['date'].str[:10]

df['date'] = df['date'].replace(regex=['2/1/2021'], value='2021-02-01')


df['date'] = pd.to_datetime(df['date'],format='%Y-%m-%d')







df['ar'].value_counts()


li = []
for each in df['ar']:
    
    if each in('<0.001','< 0.005', '<0.005'):
        li.append(0)
    elif each == '<0.01':
        li.append(0)
    else:
        li.append(float(each))



df['ar'] = li


df= df.sort_values(by=['date'])
viz = df.set_index('date')
avg_monthly = viz['ar'].resample('Y').mean()


plt.figure(figsize = (12,4), dpi=300)
plt.plot(avg_monthly, linewidth=0.5);


1318

plt.figure(figsize = (12,4), dpi=300)
plt.plot(viz['ar'], linewidth=0.5);



li = []

for each in df['ar']:
    if each <0.005:
        li.append('0')
    elif 0.005 < each < 0.01:
        li.append('1')
    else: li.append('2')


df['group'] = li


df['group'].value_counts()


df['year'] = df['date'].dt.year


viz = df[['year','ar']]

viz = viz.groupby(['year']).count()


viz


viz = df[['year','group']]

viz = pd.get_dummies(viz, columns=['group'])

viz = viz.groupby(['year']).sum()


viz = pd.DataFrame(viz.reset_index())


viz['total'] = (viz['group_0'] + viz['group_1'] + viz['group_2'])


viz['group_0_pct'] = round(((viz['group_0'] / viz['total']) * 100), 2)

viz['group_1_pct'] = round(((viz['group_1'] / viz['total']) * 100), 2)

viz['group_2_pct'] = round(((viz['group_2'] / viz['total']) * 100), 2)


viz.set_index('year', inplace=True)


viz_bar = viz[['group_1_pct','group_2_pct']]


viz_bar.plot(kind='barh')



