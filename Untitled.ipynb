{
 "cells": [
  {
   "cell_type": "code",
   "execution_count": 2,
   "id": "2b7cdd8f-f83d-4ae3-b0b8-55ed8291f3d7",
   "metadata": {},
   "outputs": [],
   "source": [
    "import pandas as pd\n",
    "\n",
    "import numpy as np\n",
    "\n",
    "from matplotlib import pyplot as plt"
   ]
  },
  {
   "cell_type": "markdown",
   "id": "3dfea4be-54f4-4880-b514-06fbd881de2a",
   "metadata": {},
   "source": []
  },
  {
   "cell_type": "code",
   "execution_count": 3,
   "id": "da56ca7a-8d8f-4ad8-b3d7-6ed65f70fa1f",
   "metadata": {},
   "outputs": [],
   "source": [
    "df = pd.read_excel(\"./data/well_data.xlsx\")"
   ]
  },
  {
   "cell_type": "code",
   "execution_count": 4,
   "id": "f8ade33b-004b-46c7-b06f-293ae160854e",
   "metadata": {},
   "outputs": [
    {
     "data": {
      "text/plain": [
       "Index(['Unnamed: 0', 'Data ID', 'Client Name', 'Address', 'City', 'State',\n",
       "       'ZipCode', 'Well Permit #', 'STARLIMS ID', 'Collection Date',\n",
       "       'Sampling Point', 'Unit', 'Aluminum', 'Antimony', 'Arsenic', 'Barium',\n",
       "       'Beryllium', 'Boron', 'Cadmium', 'Calcium', 'Chloride', 'Chromium',\n",
       "       'Cobalt', 'Copper', 'Fluoride', 'Iron', 'Lead', 'Magnesium',\n",
       "       'Manganese', 'Mercury', 'Molybdenum', 'Nickel', 'Nitrate', 'Nitrite',\n",
       "       'pH', 'Potassium', 'Selenium', 'Silver', 'Strontium', 'Sodium',\n",
       "       'Sulfate', 'Thallium', 'Total Alkalinity', 'Total Dissolved Solids',\n",
       "       'Total Hardness', 'Total Suspended Solids', 'Vanadium', 'Zinc',\n",
       "       'Hexavalent Chromium'],\n",
       "      dtype='object')"
      ]
     },
     "execution_count": 4,
     "metadata": {},
     "output_type": "execute_result"
    }
   ],
   "source": [
    "df.columns"
   ]
  },
  {
   "cell_type": "code",
   "execution_count": 5,
   "id": "1e9a4b58-6be2-4b4f-98c5-74552b48b950",
   "metadata": {},
   "outputs": [],
   "source": [
    "df = df[[\"Data ID\",\n",
    "         \"Address\",\n",
    "         \"City\",\"State\",\n",
    "         \"ZipCode\",\n",
    "         \"Well Permit #\",\n",
    "         \"STARLIMS ID\",\n",
    "         \"Collection Date\",\n",
    "         \"Sampling Point\",\n",
    "         \"Arsenic\"]]"
   ]
  },
  {
   "cell_type": "code",
   "execution_count": 7,
   "id": "ae36243f-f3dc-4fd7-8065-4413da01a082",
   "metadata": {},
   "outputs": [],
   "source": [
    "df.columns = [\"id\",\"add\",\"city\",\"state\",\"zip\",\"permitno\",\"altid\",\"date\",\"sample_point\",\"ar\"]"
   ]
  },
  {
   "cell_type": "code",
   "execution_count": 8,
   "id": "a72a82d6-9feb-4ddd-92b5-efaf67e357d5",
   "metadata": {},
   "outputs": [
    {
     "data": {
      "text/plain": [
       "Index(['id', 'add', 'city', 'state', 'zip', 'permitno', 'altid', 'date',\n",
       "       'sample_point', 'ar'],\n",
       "      dtype='object')"
      ]
     },
     "execution_count": 8,
     "metadata": {},
     "output_type": "execute_result"
    }
   ],
   "source": [
    "df.columns"
   ]
  },
  {
   "cell_type": "code",
   "execution_count": null,
   "id": "e8aec49b-a260-4371-b840-5833169bde45",
   "metadata": {},
   "outputs": [],
   "source": []
  }
 ],
 "metadata": {
  "kernelspec": {
   "display_name": "Python 3 (ipykernel)",
   "language": "python",
   "name": "python3"
  },
  "language_info": {
   "codemirror_mode": {
    "name": "ipython",
    "version": 3
   },
   "file_extension": ".py",
   "mimetype": "text/x-python",
   "name": "python",
   "nbconvert_exporter": "python",
   "pygments_lexer": "ipython3",
   "version": "3.9.7"
  }
 },
 "nbformat": 4,
 "nbformat_minor": 5
}
