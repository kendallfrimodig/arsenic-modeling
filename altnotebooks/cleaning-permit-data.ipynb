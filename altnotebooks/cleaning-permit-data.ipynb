{
 "cells": [
  {
   "cell_type": "code",
   "execution_count": 1,
   "id": "2b7cdd8f-f83d-4ae3-b0b8-55ed8291f3d7",
   "metadata": {},
   "outputs": [],
   "source": [
    "import pandas as pd\n",
    "import numpy as np"
   ]
  },
  {
   "cell_type": "code",
   "execution_count": 2,
   "id": "da56ca7a-8d8f-4ad8-b3d7-6ed65f70fa1f",
   "metadata": {},
   "outputs": [],
   "source": [
    "# import data, convert Permit ID, zip to string\n",
    "\n",
    "df = pd.read_excel(\"../data/csv/permitted_wells.xlsx\", sheet_name=\"Very_Editted\", converters={\"Permit ID\": str, \"zip\": str, \"Date Permit Issued\": str})\n"
   ]
  },
  {
   "cell_type": "code",
   "execution_count": 3,
   "id": "f8ade33b-004b-46c7-b06f-293ae160854e",
   "metadata": {},
   "outputs": [
    {
     "data": {
      "text/plain": [
       "City\n",
       "GASTONIA         1900\n",
       "DALLAS           1284\n",
       "BESSEMER CITY    1161\n",
       "MT HOLLY          911\n",
       "STANLEY           880\n",
       "BELMONT           766\n",
       "KINGS MTN         642\n",
       "CHERRYVILLE       450\n",
       "LINCOLNTON        357\n",
       "CROUSE            182\n",
       "ALEXIS             74\n",
       "CRAMERTON          24\n",
       "IRON STATION        8\n",
       "LOWELL              8\n",
       "MCADENVILLE         3\n",
       "Name: count, dtype: int64"
      ]
     },
     "execution_count": 3,
     "metadata": {},
     "output_type": "execute_result"
    }
   ],
   "source": [
    "# check typos in city column\n",
    "\n",
    "df['City'].value_counts()"
   ]
  },
  {
   "cell_type": "code",
   "execution_count": 4,
   "id": "1e9a4b58-6be2-4b4f-98c5-74552b48b950",
   "metadata": {},
   "outputs": [],
   "source": [
    "# filter columns\n",
    "\n",
    "df = df[[\"Permit ID\",\n",
    "         \"Addr_ZIP\",\n",
    "         \"City\",\n",
    "         \"zip\",\n",
    "         \"XCOORD\",\n",
    "         \"YCOORD\",\n",
    "         \"Depth of Well (Feet)\",\n",
    "         \"Date Permit Issued\"]]"
   ]
  },
  {
   "cell_type": "code",
   "execution_count": 5,
   "id": "ae36243f-f3dc-4fd7-8065-4413da01a082",
   "metadata": {},
   "outputs": [],
   "source": [
    "# rename columns\n",
    "\n",
    "df.columns = [\"id\",\"add_zip\",\"city\",\"zip\",\"X\",\"Y\",\"depth\",\"perm_date\"]"
   ]
  },
  {
   "cell_type": "code",
   "execution_count": 6,
   "id": "70aecf86",
   "metadata": {},
   "outputs": [
    {
     "data": {
      "text/plain": [
       "id             0\n",
       "add_zip      110\n",
       "city         117\n",
       "zip          111\n",
       "X            628\n",
       "Y            628\n",
       "depth        399\n",
       "perm_date    168\n",
       "dtype: int64"
      ]
     },
     "execution_count": 6,
     "metadata": {},
     "output_type": "execute_result"
    }
   ],
   "source": [
    "# count null values\n",
    "\n",
    "df.isnull().sum()"
   ]
  },
  {
   "attachments": {},
   "cell_type": "markdown",
   "id": "f9e6a2ea",
   "metadata": {},
   "source": [
    "---\n",
    "\n",
    "**re-evaluate dropping records once good data is obtained**"
   ]
  },
  {
   "cell_type": "code",
   "execution_count": 7,
   "id": "71e040a8",
   "metadata": {},
   "outputs": [
    {
     "data": {
      "text/plain": [
       "8139"
      ]
     },
     "execution_count": 7,
     "metadata": {},
     "output_type": "execute_result"
    }
   ],
   "source": [
    "# delete any rows with missing values for BOTH add and X columns\n",
    "\n",
    "df = df.dropna(subset=[\"add_zip\",\"X\"])\n",
    "len(df)"
   ]
  },
  {
   "cell_type": "code",
   "execution_count": 8,
   "id": "278f289d",
   "metadata": {},
   "outputs": [
    {
     "data": {
      "text/plain": [
       "8139"
      ]
     },
     "execution_count": 8,
     "metadata": {},
     "output_type": "execute_result"
    }
   ],
   "source": [
    "# delete any rows with missing values for id column\n",
    "\n",
    "df = df.dropna(subset=[\"id\"])\n",
    "len(df)"
   ]
  },
  {
   "cell_type": "code",
   "execution_count": 9,
   "id": "48c19314",
   "metadata": {},
   "outputs": [
    {
     "data": {
      "text/plain": [
       "8133"
      ]
     },
     "execution_count": 9,
     "metadata": {},
     "output_type": "execute_result"
    }
   ],
   "source": [
    "# drop any rows with missing values for city or zip\n",
    "\n",
    "df = df.dropna(subset=[\"city\",\"zip\"])\n",
    "len(df)"
   ]
  },
  {
   "attachments": {},
   "cell_type": "markdown",
   "id": "77cc8bde",
   "metadata": {},
   "source": [
    "---"
   ]
  },
  {
   "cell_type": "code",
   "execution_count": 10,
   "id": "cfdb147f",
   "metadata": {},
   "outputs": [],
   "source": [
    "# remove zip code from address column for matching purposes later\n",
    "\n",
    "df['add'] = [s[:-6] for s in df['add_zip']]"
   ]
  },
  {
   "cell_type": "code",
   "execution_count": 11,
   "id": "178c1758-44c2-44f7-adf5-19f3f9569a14",
   "metadata": {},
   "outputs": [],
   "source": [
    "# format date column, combine year_built column\n",
    "\n",
    "df['perm_date'] = df['perm_date'].str[:10]\n",
    "df['perm_date'] = pd.to_datetime(df['perm_date'])\n",
    "df['year_built'] = df['perm_date'].dt.year"
   ]
  },
  {
   "cell_type": "code",
   "execution_count": 13,
   "id": "53ea1435",
   "metadata": {},
   "outputs": [],
   "source": [
    "# save the cleaned data to a new file in data folder\n",
    "\n",
    "df.to_csv(\"../data/alt/csv/permitted_wells_cleaned.csv\", index=False)"
   ]
  },
  {
   "attachments": {},
   "cell_type": "markdown",
   "id": "de1fb58a",
   "metadata": {},
   "source": [
    "---\n",
    "\n",
    "**checks missingness by year range**"
   ]
  },
  {
   "cell_type": "code",
   "execution_count": 25,
   "id": "d75d5fd6",
   "metadata": {},
   "outputs": [
    {
     "data": {
      "text/plain": [
       "8133"
      ]
     },
     "execution_count": 25,
     "metadata": {},
     "output_type": "execute_result"
    }
   ],
   "source": [
    "# total number of wells\n",
    "\n",
    "len(df['year_built'])"
   ]
  },
  {
   "cell_type": "code",
   "execution_count": 26,
   "id": "b3ee40a8",
   "metadata": {},
   "outputs": [
    {
     "data": {
      "text/plain": [
       "7997"
      ]
     },
     "execution_count": 26,
     "metadata": {},
     "output_type": "execute_result"
    }
   ],
   "source": [
    "# total number of wells built before 2018\n",
    "\n",
    "len(df[(df['year_built'] < 2018)])"
   ]
  },
  {
   "cell_type": "code",
   "execution_count": 27,
   "id": "243e561c",
   "metadata": {},
   "outputs": [
    {
     "data": {
      "text/plain": [
       "id              0\n",
       "add_zip         0\n",
       "city            0\n",
       "zip             0\n",
       "X               0\n",
       "Y               0\n",
       "depth         284\n",
       "perm_date       0\n",
       "add             0\n",
       "year_built      0\n",
       "dtype: int64"
      ]
     },
     "execution_count": 27,
     "metadata": {},
     "output_type": "execute_result"
    }
   ],
   "source": [
    "# null values where \"year_built\" is less than 2018\n",
    "\n",
    "df[(df['year_built'] < 2018)].isnull().sum()"
   ]
  },
  {
   "cell_type": "code",
   "execution_count": 28,
   "id": "fb41dcf0",
   "metadata": {},
   "outputs": [
    {
     "data": {
      "text/plain": [
       "25"
      ]
     },
     "execution_count": 28,
     "metadata": {},
     "output_type": "execute_result"
    }
   ],
   "source": [
    "# number of wells built in 2018 or after\n",
    "\n",
    "len(df[df['year_built'] > 2017])"
   ]
  },
  {
   "cell_type": "code",
   "execution_count": 29,
   "id": "902ba5e0",
   "metadata": {},
   "outputs": [
    {
     "data": {
      "text/plain": [
       "id            0\n",
       "add_zip       0\n",
       "city          0\n",
       "zip           0\n",
       "X             0\n",
       "Y             0\n",
       "depth         2\n",
       "perm_date     0\n",
       "add           0\n",
       "year_built    0\n",
       "dtype: int64"
      ]
     },
     "execution_count": 29,
     "metadata": {},
     "output_type": "execute_result"
    }
   ],
   "source": [
    "# null values where for wells built in 2018 or after\n",
    "\n",
    "df[df['year_built'] > 2017].isnull().sum()"
   ]
  }
 ],
 "metadata": {
  "kernelspec": {
   "display_name": "base",
   "language": "python",
   "name": "python3"
  },
  "language_info": {
   "codemirror_mode": {
    "name": "ipython",
    "version": 3
   },
   "file_extension": ".py",
   "mimetype": "text/x-python",
   "name": "python",
   "nbconvert_exporter": "python",
   "pygments_lexer": "ipython3",
   "version": "3.10.10"
  },
  "vscode": {
   "interpreter": {
    "hash": "58a2e68265e5871579dff07da96778d0132892d6744ab693af39e5915174ef8e"
   }
  }
 },
 "nbformat": 4,
 "nbformat_minor": 5
}
