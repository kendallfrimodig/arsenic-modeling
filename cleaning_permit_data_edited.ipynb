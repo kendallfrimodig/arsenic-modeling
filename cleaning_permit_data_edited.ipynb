{
 "cells": [
  {
   "cell_type": "code",
   "execution_count": 1,
   "id": "2b7cdd8f-f83d-4ae3-b0b8-55ed8291f3d7",
   "metadata": {},
   "outputs": [],
   "source": [
    "import pandas as pd\n",
    "import numpy as np\n",
    "from matplotlib import pyplot as plt"
   ]
  },
  {
   "cell_type": "markdown",
   "id": "3dfea4be-54f4-4880-b514-06fbd881de2a",
   "metadata": {},
   "source": []
  },
  {
   "cell_type": "code",
   "execution_count": 2,
   "id": "da56ca7a-8d8f-4ad8-b3d7-6ed65f70fa1f",
   "metadata": {},
   "outputs": [],
   "source": [
    "# import data, convert Permit ID, zip to string\n",
    "\n",
    "df = pd.read_excel(\"./data/permit_data.xlsx\", sheet_name=\"Very_Editted\", converters={\"Permit ID\": str, \"zip\": str, \"Date Permit Issued\": str})\n",
    "\n"
   ]
  },
  {
   "cell_type": "code",
   "execution_count": 3,
   "id": "f8ade33b-004b-46c7-b06f-293ae160854e",
   "metadata": {},
   "outputs": [
    {
     "data": {
      "text/plain": [
       "GASTONIA         1900\n",
       "DALLAS           1284\n",
       "BESSEMER CITY    1161\n",
       "MT HOLLY          911\n",
       "STANLEY           880\n",
       "BELMONT           766\n",
       "KINGS MTN         642\n",
       "CHERRYVILLE       450\n",
       "LINCOLNTON        357\n",
       "CROUSE            182\n",
       "ALEXIS             74\n",
       "CRAMERTON          24\n",
       "IRON STATION        8\n",
       "LOWELL              8\n",
       "MCADENVILLE         3\n",
       "Name: City, dtype: int64"
      ]
     },
     "execution_count": 3,
     "metadata": {},
     "output_type": "execute_result"
    }
   ],
   "source": [
    "df['City'].value_counts()"
   ]
  },
  {
   "cell_type": "code",
   "execution_count": 4,
   "id": "1e9a4b58-6be2-4b4f-98c5-74552b48b950",
   "metadata": {},
   "outputs": [],
   "source": [
    "df = df[[\"Permit ID\",\n",
    "         \"Addr_ZIP\",\n",
    "         \"City\",\n",
    "         \"zip\",\n",
    "         \"XCOORD\",\n",
    "         \"YCOORD\",\n",
    "         \"Depth of Well (Feet)\",\n",
    "         \"Date Permit Issued\"]]"
   ]
  },
  {
   "cell_type": "code",
   "execution_count": 5,
   "id": "ae36243f-f3dc-4fd7-8065-4413da01a082",
   "metadata": {},
   "outputs": [],
   "source": [
    "df.columns = [\"id\",\"add_zip\",\"city\",\"zip\",\"X\",\"Y\",\"depth\",\"perm_date\"]"
   ]
  },
  {
   "cell_type": "code",
   "execution_count": 14,
   "id": "71e040a8",
   "metadata": {},
   "outputs": [
    {
     "data": {
      "text/plain": [
       "8139"
      ]
     },
     "execution_count": 14,
     "metadata": {},
     "output_type": "execute_result"
    }
   ],
   "source": [
    "# delete any rows with missing values for BOTH add and X columns\n",
    "\n",
    "df = df.dropna(subset=[\"add_zip\",\"X\"])\n",
    "len(df)"
   ]
  },
  {
   "cell_type": "code",
   "execution_count": 15,
   "id": "278f289d",
   "metadata": {},
   "outputs": [],
   "source": [
    "\n",
    "# delete any rows with missing values for id column\n",
    "\n",
    "df = df.dropna(subset=[\"id\"])\n",
    "len(df)\n",
    "\n",
    "# drop any rows with missing values for city or zip\n",
    "\n",
    "df = df.dropna(subset=[\"city\",\"zip\"])\n"
   ]
  },
  {
   "cell_type": "code",
   "execution_count": 16,
   "id": "cfdb147f",
   "metadata": {},
   "outputs": [],
   "source": [
    "# remove zip code from address column for matching purposes later\n",
    "df['add'] = [s[:-6] for s in df['add_zip']]"
   ]
  },
  {
   "cell_type": "code",
   "execution_count": null,
   "id": "bc3f8415",
   "metadata": {},
   "outputs": [],
   "source": []
  },
  {
   "cell_type": "code",
   "execution_count": 17,
   "id": "e8aec49b-a260-4371-b840-5833169bde45",
   "metadata": {
    "tags": []
   },
   "outputs": [],
   "source": [
    "#na_check = df.drop(columns={'plant'})\n",
    "#import missingno as msno\n",
    "#msno.matrix(df, sparkline=False, figsize=(15,15), fontsize=12, color=(0.27, 0.52, 1.0));"
   ]
  },
  {
   "cell_type": "code",
   "execution_count": 7,
   "id": "178c1758-44c2-44f7-adf5-19f3f9569a14",
   "metadata": {},
   "outputs": [],
   "source": [
    "df['perm_date'] = df['perm_date'].str[:10]\n",
    "df['perm_date'] = pd.to_datetime(df['perm_date'])\n",
    "df['year_built'] = df['perm_date'].dt.year"
   ]
  },
  {
   "cell_type": "code",
   "execution_count": 19,
   "id": "53ea1435",
   "metadata": {},
   "outputs": [],
   "source": [
    "# save the cleaned data to a new file in data folder\n",
    "\n",
    "df.to_csv(\"./data/permit_data_cleaned.csv\", index=False)"
   ]
  },
  {
   "cell_type": "code",
   "execution_count": 14,
   "id": "d75d5fd6",
   "metadata": {},
   "outputs": [
    {
     "data": {
      "text/plain": [
       "8767"
      ]
     },
     "execution_count": 14,
     "metadata": {},
     "output_type": "execute_result"
    }
   ],
   "source": [
    "len(df['year_built'])"
   ]
  },
  {
   "cell_type": "code",
   "execution_count": 11,
   "id": "b3ee40a8",
   "metadata": {},
   "outputs": [
    {
     "data": {
      "text/plain": [
       "8354"
      ]
     },
     "execution_count": 11,
     "metadata": {},
     "output_type": "execute_result"
    }
   ],
   "source": [
    "len(df[(df['year_built'] < 2018)])"
   ]
  },
  {
   "cell_type": "code",
   "execution_count": 12,
   "id": "243e561c",
   "metadata": {},
   "outputs": [
    {
     "data": {
      "text/plain": [
       "id              0\n",
       "add_zip       109\n",
       "city          116\n",
       "zip           110\n",
       "X             351\n",
       "Y             351\n",
       "depth         311\n",
       "perm_date       0\n",
       "year_built      0\n",
       "dtype: int64"
      ]
     },
     "execution_count": 12,
     "metadata": {},
     "output_type": "execute_result"
    }
   ],
   "source": [
    "\n",
    "\n",
    "# check for null values where \"year_built\" is less than 2018\n",
    "# and where \"year_built\" is greater than 2017\n",
    "\n",
    "df[(df['year_built'] < 2018)].isnull().sum()\n",
    "\n"
   ]
  },
  {
   "cell_type": "code",
   "execution_count": null,
   "id": "fb41dcf0",
   "metadata": {},
   "outputs": [],
   "source": [
    "len(df[df['year_built'] > 2017])"
   ]
  },
  {
   "cell_type": "code",
   "execution_count": 10,
   "id": "902ba5e0",
   "metadata": {},
   "outputs": [
    {
     "data": {
      "text/plain": [
       "id              0\n",
       "add_zip         1\n",
       "city            1\n",
       "zip             1\n",
       "X             220\n",
       "Y             220\n",
       "depth           8\n",
       "perm_date       0\n",
       "year_built      0\n",
       "dtype: int64"
      ]
     },
     "execution_count": 10,
     "metadata": {},
     "output_type": "execute_result"
    }
   ],
   "source": [
    "\n",
    "# check for null values where \"year_built\" is less than 2017\n",
    "\n",
    "df[df['year_built'] > 2017].isnull().sum()"
   ]
  },
  {
   "cell_type": "code",
   "execution_count": null,
   "id": "29b9fb42",
   "metadata": {},
   "outputs": [],
   "source": []
  }
 ],
 "metadata": {
  "kernelspec": {
   "display_name": "base",
   "language": "python",
   "name": "python3"
  },
  "language_info": {
   "codemirror_mode": {
    "name": "ipython",
    "version": 3
   },
   "file_extension": ".py",
   "mimetype": "text/x-python",
   "name": "python",
   "nbconvert_exporter": "python",
   "pygments_lexer": "ipython3",
   "version": "3.9.7"
  },
  "vscode": {
   "interpreter": {
    "hash": "58a2e68265e5871579dff07da96778d0132892d6744ab693af39e5915174ef8e"
   }
  }
 },
 "nbformat": 4,
 "nbformat_minor": 5
}
