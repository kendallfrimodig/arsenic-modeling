{
 "cells": [
  {
   "cell_type": "code",
   "execution_count": 1,
   "id": "2b7cdd8f-f83d-4ae3-b0b8-55ed8291f3d7",
   "metadata": {},
   "outputs": [],
   "source": [
    "import pandas as pd\n",
    "import numpy as np\n",
    "from matplotlib import pyplot as plt\n",
    "import seaborn as sns"
   ]
  },
  {
   "cell_type": "markdown",
   "id": "3dfea4be-54f4-4880-b514-06fbd881de2a",
   "metadata": {},
   "source": []
  },
  {
   "cell_type": "code",
   "execution_count": 2,
   "id": "da56ca7a-8d8f-4ad8-b3d7-6ed65f70fa1f",
   "metadata": {},
   "outputs": [],
   "source": [
    "df = pd.read_excel(\"./data/well_data.xlsx\", converters={'Collection Date':str,\n",
    "                                                        'City': lambda x: str(x.strip())})"
   ]
  },
  {
   "cell_type": "code",
   "execution_count": 3,
   "id": "f8ade33b-004b-46c7-b06f-293ae160854e",
   "metadata": {},
   "outputs": [
    {
     "data": {
      "text/plain": [
       "1714"
      ]
     },
     "execution_count": 3,
     "metadata": {},
     "output_type": "execute_result"
    }
   ],
   "source": [
    "len(df)"
   ]
  },
  {
   "cell_type": "code",
   "execution_count": 4,
   "id": "1e9a4b58-6be2-4b4f-98c5-74552b48b950",
   "metadata": {},
   "outputs": [],
   "source": [
    "# select columns\n",
    "\n",
    "df = df[[\"Address\",\n",
    "         \"City\",\n",
    "         \"State\",\n",
    "         \"ZipCode\",\n",
    "         \"Well Permit #\",\n",
    "         \"STARLIMS ID\",\n",
    "         \"Collection Date\",\n",
    "         \"Arsenic\",\n",
    "         \"pH\"]]"
   ]
  },
  {
   "cell_type": "code",
   "execution_count": 5,
   "id": "ae36243f-f3dc-4fd7-8065-4413da01a082",
   "metadata": {},
   "outputs": [],
   "source": [
    "# rename columns\n",
    "\n",
    "df.columns = [\"add\",\"city\",\"state\",\"zip\",\"id\",\"altid\",\"date\",\"ar\",\"ph\"]"
   ]
  },
  {
   "cell_type": "code",
   "execution_count": 6,
   "id": "a72a82d6-9feb-4ddd-92b5-efaf67e357d5",
   "metadata": {},
   "outputs": [
    {
     "data": {
      "text/plain": [
       "Index(['GASTONIA', 'BELMONT', 'DALLAS', 'MOUNT HOLLY', 'BESSEMER CITY',\n",
       "       'STANLEY', 'KINGS MOUNTAIN', 'CHERRYVILLE', 'LINCOLNTON', 'Gastonia',\n",
       "       'Dallas', 'Mount Holly', 'Stanley', 'Belmont', 'Bessemer City',\n",
       "       'CROUSE', 'ALEXIS', 'Lincolnton', 'Cherryville', 'Kings Mountain',\n",
       "       'CRAMERTON', 'KINGS MOUTAIN', 'LOWELL', 'Crouse', 'Mt. Holly',\n",
       "       'King Mtn 1Kings Mountain', 'MC ADENVILLE', 'LOWEL', 'IRON STATION',\n",
       "       'STALEY', 'PINEVILLE', 'MT HOLLY', 'Bassemer City'],\n",
       "      dtype='object')"
      ]
     },
     "execution_count": 6,
     "metadata": {},
     "output_type": "execute_result"
    }
   ],
   "source": [
    "df['city'].value_counts().keys()"
   ]
  },
  {
   "cell_type": "code",
   "execution_count": 35,
   "id": "e8aec49b-a260-4371-b840-5833169bde45",
   "metadata": {
    "tags": []
   },
   "outputs": [
    {
     "data": {
      "text/plain": [
       "add           0\n",
       "city          1\n",
       "state         0\n",
       "zip           0\n",
       "permitno    614\n",
       "altid         0\n",
       "date          0\n",
       "ar           13\n",
       "ph           11\n",
       "dtype: int64"
      ]
     },
     "execution_count": 35,
     "metadata": {},
     "output_type": "execute_result"
    }
   ],
   "source": [
    "# Check for missing values\n",
    "\n",
    "df.isnull().sum()"
   ]
  },
  {
   "cell_type": "code",
   "execution_count": 62,
   "id": "e5a4a253",
   "metadata": {},
   "outputs": [
    {
     "data": {
      "text/plain": [
       "GASTONIA         360\n",
       "BELMONT          285\n",
       "DALLAS           254\n",
       "MT HOLLY         183\n",
       "STANLEY          168\n",
       "BESSEMER CITY    162\n",
       "KINGS MTN         99\n",
       "CHERRYVILLE       90\n",
       "LINCOLNTON        64\n",
       "CROUSE            23\n",
       "ALEXIS            16\n",
       "LOWELL             3\n",
       "CRAMERTON          3\n",
       "PINEVILLE          1\n",
       "MCADENVILLE        1\n",
       "                   1\n",
       "IRON STATION       1\n",
       "Name: city, dtype: int64"
      ]
     },
     "execution_count": 62,
     "metadata": {},
     "output_type": "execute_result"
    }
   ],
   "source": [
    "li = []\n",
    "\n",
    "for each in df['city']:\n",
    "\n",
    "    if each in ['GASTONIA', 'Gastonia']:\n",
    "        li.append('GASTONIA')\n",
    "\n",
    "    elif each in ['BELMONT', 'Belmont']:\n",
    "        li.append('BELMONT')\n",
    "\n",
    "    elif each in ['DALLAS', 'Dallas']:\n",
    "        li.append('DALLAS')\n",
    "    \n",
    "    elif each in ['MOUNT HOLLY', 'Mt. Holly','MT HOLLY', 'Mount Holly']:\n",
    "        li.append('MT HOLLY')\n",
    "\n",
    "    elif each in ['STANLEY','Stanley', 'STALEY']:\n",
    "        li.append('STANLEY')\n",
    "    \n",
    "    elif each in ['BESSEMER CITY', 'Bessemer City','Bassemer City']:\n",
    "        li.append('BESSEMER CITY')\n",
    "    \n",
    "    elif each in ['KINGS MOUNTAIN', 'Kings Mountain','KINGS MOUTAIN','King Mtn 1Kings Mountain']:\n",
    "        li.append('KINGS MTN')\n",
    "    \n",
    "    elif each in['CHERRYVILLE', 'Cherryville']:\n",
    "        li.append('CHERRYVILLE')\n",
    "    \n",
    "    elif each in['LINCOLNTON','Lincolnton']:\n",
    "        li.append('LINCOLNTON')\n",
    "    \n",
    "    elif each in['IRON STATION']:\n",
    "        li.append('IRON STATION')\n",
    "\n",
    "    elif each in['ALEXIS']:\n",
    "        li.append('ALEXIS')\n",
    "\n",
    "    elif each in['LOWEL','LOWELL']:\n",
    "        li.append('LOWELL')\n",
    "\n",
    "    elif each in['CROUSE', 'Crouse']:\n",
    "        li.append('CROUSE')\n",
    "\n",
    "    elif each in['CRAMERTON']: \n",
    "        li.append('CRAMERTON')\n",
    "\n",
    "\n",
    "    elif each in ['MC ADENVILLE']:\n",
    "        li.append('MCADENVILLE')\n",
    "\n",
    "    elif each == 'PINEVILLE':\n",
    "        li.append('PINEVILLE')\n",
    "    else:\n",
    "        li.append(\"\")\n",
    "\n",
    "\n",
    "\n",
    "df['city'] = li\n",
    "\n",
    "df['city'].value_counts()"
   ]
  },
  {
   "cell_type": "code",
   "execution_count": 7,
   "id": "178c1758-44c2-44f7-adf5-19f3f9569a14",
   "metadata": {},
   "outputs": [],
   "source": [
    "# Convert long date to short date\n",
    "\n",
    "df['date'] = df['date'].str[:10]\n",
    "\n",
    "df['date'] = df['date'].replace(regex=['2/1/2021'], value='2021-02-01')"
   ]
  },
  {
   "cell_type": "code",
   "execution_count": 8,
   "id": "94c5e138-64ad-4c8b-9d7e-e1da3b45ec60",
   "metadata": {},
   "outputs": [],
   "source": [
    "# convert date to datetime\n",
    "\n",
    "df['date'] = pd.to_datetime(df['date'])"
   ]
  },
  {
   "cell_type": "code",
   "execution_count": 9,
   "id": "779b4bd3-9124-453e-a797-e7ce12d17099",
   "metadata": {},
   "outputs": [],
   "source": [
    "# convert non-detect arsenic values to 0\n",
    "\n",
    "li = []\n",
    "for each in df['ar']:\n",
    "    if each in('<0.001','< 0.005', '<0.005', '<0.01'):\n",
    "        li.append(float(0))\n",
    "    else:\n",
    "        li.append(float(each))\n",
    "\n",
    "df['ar'] = li"
   ]
  },
  {
   "cell_type": "code",
   "execution_count": 10,
   "id": "28c318d3",
   "metadata": {},
   "outputs": [],
   "source": [
    "# Create a new column to group arsenic values into 0 and 1, 0 for <0.001 and 1 for >=0.001\n",
    "\n",
    "li = []\n",
    "for each in df['ar']:\n",
    "    if each < 0.001:\n",
    "        li.append('0')\n",
    "    else: li.append('1')\n",
    "\n",
    "df['group'] = li\n",
    "\n",
    "# Create a new column to group arsenic values into 0 and 1, 0 for <0.005 and 1 for >=0.005\n",
    "\n",
    "li = []\n",
    "for each in df['ar']:\n",
    "    if each < 0.005:\n",
    "        li.append('0')\n",
    "    else: li.append('1')\n",
    "\n",
    "df['group_five'] = li\n",
    "\n"
   ]
  },
  {
   "cell_type": "code",
   "execution_count": null,
   "id": "00c13bdf",
   "metadata": {},
   "outputs": [],
   "source": [
    "\n",
    "\n",
    "# if missing arsenic or ph values, drop the row\n",
    "\n",
    "df = df.dropna(subset=['ar','ph'])\n"
   ]
  },
  {
   "cell_type": "code",
   "execution_count": 67,
   "id": "7aae3db6",
   "metadata": {},
   "outputs": [],
   "source": [
    "df['city'] = [s.strip() for s in df['city']]\n",
    "\n",
    "# drop rows with missing city values\n",
    "\n",
    "df = df[df['city'] != '']"
   ]
  },
  {
   "cell_type": "code",
   "execution_count": 68,
   "id": "b9b5d2d5",
   "metadata": {},
   "outputs": [],
   "source": [
    "# save the cleaned data to a new file in data folder\n",
    "\n",
    "df.to_csv(\"./data/well_data_cleaned.csv\", index=False)"
   ]
  },
  {
   "cell_type": "code",
   "execution_count": 11,
   "id": "8b66b1a1",
   "metadata": {},
   "outputs": [],
   "source": [
    "# create 2 new dataframes, one to check the number of elevated arsenic samples 2011-2017 \n",
    "# and the other to check the number of elevated arsenic samples 2018-2022\n",
    "\n",
    "df['year'] = df['date'].dt.year\n"
   ]
  },
  {
   "cell_type": "code",
   "execution_count": 20,
   "id": "1346c275",
   "metadata": {},
   "outputs": [],
   "source": [
    "\n",
    "new = df[df['year'] > 2017]\n",
    "og = df[df['year'] < 2018]"
   ]
  },
  {
   "attachments": {},
   "cell_type": "markdown",
   "id": "cd6e6a74",
   "metadata": {},
   "source": [
    "Number of elevated samples for two periods, with 0.001 as the threshold"
   ]
  },
  {
   "cell_type": "code",
   "execution_count": 12,
   "id": "b552c56b",
   "metadata": {},
   "outputs": [
    {
     "name": "stdout",
     "output_type": "stream",
     "text": [
      "number of elevated arsenic samples 2011-2017\n"
     ]
    },
    {
     "data": {
      "text/plain": [
       "41"
      ]
     },
     "execution_count": 12,
     "metadata": {},
     "output_type": "execute_result"
    }
   ],
   "source": [
    "print('number of elevated arsenic samples 2011-2017')\n",
    "\n",
    "len(og[og['group'] == '1'])"
   ]
  },
  {
   "cell_type": "code",
   "execution_count": 13,
   "id": "447f2b4a",
   "metadata": {},
   "outputs": [
    {
     "name": "stdout",
     "output_type": "stream",
     "text": [
      "number of elevated arsenic samples 2018-2022\n"
     ]
    },
    {
     "data": {
      "text/plain": [
       "92"
      ]
     },
     "execution_count": 13,
     "metadata": {},
     "output_type": "execute_result"
    }
   ],
   "source": [
    "print('number of elevated arsenic samples 2018-2022')\n",
    "\n",
    "len(new[new['group'] == '1'])"
   ]
  },
  {
   "attachments": {},
   "cell_type": "markdown",
   "id": "c7f27e35",
   "metadata": {},
   "source": [
    "Number of elevated samples for two periods, with 0.005 as the threshold"
   ]
  },
  {
   "cell_type": "code",
   "execution_count": 39,
   "id": "330bbb76",
   "metadata": {},
   "outputs": [
    {
     "name": "stdout",
     "output_type": "stream",
     "text": [
      "number of elevated arsenic samples 2011-2017\n"
     ]
    },
    {
     "data": {
      "text/plain": [
       "41"
      ]
     },
     "execution_count": 39,
     "metadata": {},
     "output_type": "execute_result"
    }
   ],
   "source": [
    "print('number of elevated arsenic samples 2011-2017')\n",
    "len(og[og['group_five'] == '1'])"
   ]
  },
  {
   "cell_type": "code",
   "execution_count": 18,
   "id": "2138e904",
   "metadata": {},
   "outputs": [
    {
     "data": {
      "text/plain": [
       "1034"
      ]
     },
     "execution_count": 18,
     "metadata": {},
     "output_type": "execute_result"
    }
   ],
   "source": [
    "len(og)"
   ]
  },
  {
   "cell_type": "code",
   "execution_count": 21,
   "id": "e722452c",
   "metadata": {},
   "outputs": [
    {
     "data": {
      "text/plain": [
       "12090    2\n",
       "11431    2\n",
       "11665    2\n",
       "11531    1\n",
       "6513     1\n",
       "        ..\n",
       "882      1\n",
       "9807     1\n",
       "9995     1\n",
       "2653     1\n",
       "12603    1\n",
       "Name: id, Length: 608, dtype: int64"
      ]
     },
     "execution_count": 21,
     "metadata": {},
     "output_type": "execute_result"
    }
   ],
   "source": [
    "# count duplicate permit numbers\n",
    "\n",
    "og['id'].value_counts()"
   ]
  },
  {
   "cell_type": "code",
   "execution_count": 40,
   "id": "fbc99eab",
   "metadata": {},
   "outputs": [
    {
     "name": "stdout",
     "output_type": "stream",
     "text": [
      "number of elevated arsenic samples 2018-2022\n"
     ]
    },
    {
     "data": {
      "text/plain": [
       "32"
      ]
     },
     "execution_count": 40,
     "metadata": {},
     "output_type": "execute_result"
    }
   ],
   "source": [
    "print('number of elevated arsenic samples 2018-2022')\n",
    "len(new[new['group_five'] == '1'])"
   ]
  },
  {
   "cell_type": "code",
   "execution_count": 15,
   "id": "0dd47238",
   "metadata": {},
   "outputs": [
    {
     "data": {
      "text/plain": [
       "1034"
      ]
     },
     "execution_count": 15,
     "metadata": {},
     "output_type": "execute_result"
    }
   ],
   "source": [
    "len(df[(df['year'] < 2018)])"
   ]
  },
  {
   "cell_type": "code",
   "execution_count": 14,
   "id": "119d9295",
   "metadata": {},
   "outputs": [
    {
     "data": {
      "text/plain": [
       "add             0\n",
       "city            1\n",
       "state           0\n",
       "zip             0\n",
       "id            423\n",
       "altid           0\n",
       "date            0\n",
       "ar              0\n",
       "ph              0\n",
       "group           0\n",
       "group_five      0\n",
       "year            0\n",
       "dtype: int64"
      ]
     },
     "execution_count": 14,
     "metadata": {},
     "output_type": "execute_result"
    }
   ],
   "source": [
    "df[(df['year'] < 2018)].isnull().sum()"
   ]
  },
  {
   "attachments": {},
   "cell_type": "markdown",
   "id": "a98eb11f",
   "metadata": {},
   "source": [
    "Since testing instruments couldn't detect below 0.005 prior to 2018, there are many samples between 0.001 and 0.005 for 2018-2022 thus making it look like the number of elevated detects has increased. 0.001 was chosen as the cutoff still for modeling purposes since it's the 0.001-0.005 is still of concern to health. If the cutoff was 0.005, the bar chart would show 41 elevated samples 2011-2017 and 19 for 2018-2022 instead"
   ]
  },
  {
   "cell_type": "code",
   "execution_count": 64,
   "id": "36413eef",
   "metadata": {},
   "outputs": [
    {
     "data": {
      "image/png": "[encoded data removed]",
      "text/plain": [
       "<Figure size 720x360 with 1 Axes>"
      ]
     },
     "metadata": {},
     "output_type": "display_data"
    }
   ],
   "source": [
    "# bar chart of elevated arsenic samples (>0.001) 2011-2022\n",
    "\n",
    "sns.set_style('darkgrid')\n",
    "sns.set_context('notebook')\n",
    "sns.set_palette('Set2')\n",
    "\n",
    "plt.figure(figsize=(10, 5))\n",
    "sns.countplot(x='year', data=df[df['group'] == '1'], color='blue')\n",
    "plt.title('Elevated Arsenic Samples (>0.001), by Year')\n",
    "plt.xlabel('Year')\n",
    "plt.ylabel('Number of Samples')\n",
    "plt.ylim(0, 25);\n"
   ]
  },
  {
   "cell_type": "code",
   "execution_count": 65,
   "id": "be93c6f1",
   "metadata": {},
   "outputs": [
    {
     "data": {
      "image/png": "[encoded data removed]",
      "text/plain": [
       "<Figure size 720x360 with 1 Axes>"
      ]
     },
     "metadata": {},
     "output_type": "display_data"
    }
   ],
   "source": [
    "# bar chart of elevated arsenic samples (>0.005) 2011-2022\n",
    "\n",
    "sns.set_style('darkgrid')\n",
    "sns.set_context('notebook')\n",
    "sns.set_palette('Set2')\n",
    "\n",
    "plt.figure(figsize=(10, 5))\n",
    "sns.countplot(x='year', data=df[df['group_five'] == '1'], color='blue')\n",
    "plt.title('Elevated Arsenic Samples (>0.005), by Year')\n",
    "plt.xlabel('Year')\n",
    "plt.ylabel('Number of Samples')\n",
    "plt.ylim(0, 25);\n"
   ]
  },
  {
   "cell_type": "code",
   "execution_count": 74,
   "id": "e6299ffc-50d1-43c8-974f-d5a7800fee5b",
   "metadata": {},
   "outputs": [],
   "source": [
    "df= df.sort_values(by=['date'])\n",
    "viz = df.set_index('date')\n",
    "avg_yearly = viz['ar'].resample('Y').mean()"
   ]
  },
  {
   "cell_type": "code",
   "execution_count": 78,
   "id": "4e26e99e-05bf-4714-b803-15b0a06ee786",
   "metadata": {},
   "outputs": [
    {
     "data": {
      "image/png": "[encoded data removed]",
      "text/plain": [
       "<Figure size 720x360 with 1 Axes>"
      ]
     },
     "metadata": {},
     "output_type": "display_data"
    }
   ],
   "source": [
    "sns.set_style('darkgrid')\n",
    "sns.set_context('notebook')\n",
    "sns.set_palette('Set2')\n",
    "\n",
    "plt.figure(figsize=(10, 5))\n",
    "sns.lineplot(x=avg_yearly.index.year, y=avg_yearly.values, color='blue')\n",
    "plt.title('Average Arsenic Levels by Year')\n",
    "plt.xlabel('Year')\n",
    "plt.ylabel('Average Arsenic Level')\n",
    "plt.ylim(0, 0.004)\n",
    "plt.xticks(np.arange(2011, 2023, 1));"
   ]
  },
  {
   "cell_type": "code",
   "execution_count": 83,
   "id": "9644879f",
   "metadata": {},
   "outputs": [
    {
     "data": {
      "image/png": "[encoded data removed]",
      "text/plain": [
       "<Figure size 720x360 with 1 Axes>"
      ]
     },
     "metadata": {},
     "output_type": "display_data"
    }
   ],
   "source": [
    "# same as above but with elevated arsenic samples defined as >= 0.005\n",
    "\n",
    "df= df.sort_values(by=['date'])\n",
    "viz = df.set_index('date')\n",
    "\n",
    "li = []\n",
    "\n",
    "for each in viz['ar']:\n",
    "    if each < 0.005:\n",
    "        li.append(float(0))\n",
    "    else: li.append(each)\n",
    "\n",
    "viz['ar'] = li\n",
    "\n",
    "\n",
    "avg_yearly = viz['ar'].resample('Y').mean()\n",
    "\n",
    "sns.set_style('darkgrid')\n",
    "sns.set_context('notebook')\n",
    "sns.set_palette('Set2')\n",
    "\n",
    "plt.figure(figsize=(10, 5))\n",
    "sns.lineplot(x=avg_yearly.index.year, y=avg_yearly.values, color='blue')\n",
    "plt.title('Average Arsenic Levels by Year')\n",
    "plt.xlabel('Year')\n",
    "plt.ylabel('Average Arsenic Level')\n",
    "plt.ylim(0, 0.004)\n",
    "plt.xticks(np.arange(2011, 2023, 1));\n"
   ]
  },
  {
   "cell_type": "code",
   "execution_count": 89,
   "id": "9a9a85a6-30a7-4b48-9c34-6929edeae7fe",
   "metadata": {},
   "outputs": [
    {
     "data": {
      "image/png": "[encoded data removed]",
      "text/plain": [
       "<Figure size 1440x360 with 1 Axes>"
      ]
     },
     "metadata": {},
     "output_type": "display_data"
    }
   ],
   "source": [
    "# line plot of arsenic samples \n",
    "\n",
    "sns.set_style('darkgrid')\n",
    "sns.set_context('notebook')\n",
    "sns.set_palette('Set2')\n",
    "\n",
    "plt.figure(figsize=(20, 5))\n",
    "sns.lineplot(x=df['date'], y=df['ar'], color='blue')\n",
    "plt.title('Arsenic Levels by Day 2011-2022')\n",
    "plt.xlabel('Date')\n",
    "plt.ylabel('Arsenic Level')\n",
    "plt.ylim(0, 0.15);\n",
    "\n"
   ]
  },
  {
   "cell_type": "code",
   "execution_count": 28,
   "id": "8dde09a9-5bb4-49dc-be87-b37fdb105eea",
   "metadata": {},
   "outputs": [
    {
     "data": {
      "text/plain": [
       "0    1581\n",
       "1     133\n",
       "Name: group, dtype: int64"
      ]
     },
     "execution_count": 28,
     "metadata": {},
     "output_type": "execute_result"
    }
   ],
   "source": [
    "# Number of total\n",
    "\n",
    "df['group'].value_counts()"
   ]
  },
  {
   "attachments": {},
   "cell_type": "markdown",
   "id": "12b5e044",
   "metadata": {},
   "source": [
    "Check the percentage of elevated samples by year"
   ]
  },
  {
   "cell_type": "code",
   "execution_count": 106,
   "id": "d6b04590-d509-422d-aee9-78b734dcf331",
   "metadata": {},
   "outputs": [],
   "source": [
    "viz = df[['year','group_five']]\n",
    "\n",
    "viz = pd.get_dummies(viz, columns=['group_five'])\n",
    "\n",
    "viz = viz.groupby(['year']).sum()\n",
    "\n",
    "viz = pd.DataFrame(viz.reset_index())\n",
    "\n",
    "viz['total'] = (viz['group_five_0'] + viz['group_five_1'])\n",
    "\n",
    "viz['group_five_0_pct'] = round(((viz['group_five_0'] / viz['total']) * 100), 2)\n",
    "\n",
    "viz['group_five_1_pct'] = round(((viz['group_five_1'] / viz['total']) * 100), 2)\n",
    "\n",
    "viz.set_index('year', inplace=True)\n",
    "\n",
    "viz = viz[['group_five_1', 'group_five_1_pct', 'total']]\n",
    "viz.columns = ['> 0.005', '% > 0.005', 'Total']\n",
    "viz"
   ]
  }
 ],
 "metadata": {
  "kernelspec": {
   "display_name": "base",
   "language": "python",
   "name": "python3"
  },
  "language_info": {
   "codemirror_mode": {
    "name": "ipython",
    "version": 3
   },
   "file_extension": ".py",
   "mimetype": "text/x-python",
   "name": "python",
   "nbconvert_exporter": "python",
   "pygments_lexer": "ipython3",
   "version": "3.9.7"
  },
  "vscode": {
   "interpreter": {
    "hash": "58a2e68265e5871579dff07da96778d0132892d6744ab693af39e5915174ef8e"
   }
  }
 },
 "nbformat": 4,
 "nbformat_minor": 5
}
