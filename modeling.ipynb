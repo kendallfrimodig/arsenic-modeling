{
 "cells": [
  {
   "cell_type": "code",
   "execution_count": 3,
   "metadata": {},
   "outputs": [],
   "source": [
    "import geopandas as gpd\n",
    "import os\n",
    "import pandas as pd\n",
    "import numpy as np\n",
    "import matplotlib.pyplot as plt\n",
    "import fiona as fio\n",
    "import shapely as shp  \n",
    "\n",
    "\n",
    "import geojson as gs\n"
   ]
  },
  {
   "cell_type": "code",
   "execution_count": 4,
   "metadata": {},
   "outputs": [],
   "source": [
    "# load in geojson files\n",
    "\n",
    "gdf_ar = gpd.read_file('data/gis/point/ar_samples_w_geol.geojson')\n"
   ]
  },
  {
   "attachments": {},
   "cell_type": "markdown",
   "metadata": {},
   "source": [
    "## Calculate Autocovariate \n",
    "\n",
    "minimum Euclidean distance (bandwidth) at which no private well had zero neighbors was 1976 meters and used this value (𝑑𝑖𝑗) in the analysis."
   ]
  },
  {
   "cell_type": "code",
   "execution_count": null,
   "metadata": {},
   "outputs": [],
   "source": []
  },
  {
   "attachments": {},
   "cell_type": "markdown",
   "metadata": {},
   "source": [
    "# Feature Engineering"
   ]
  },
  {
   "attachments": {},
   "cell_type": "markdown",
   "metadata": {},
   "source": [
    "Convert elevated arsenic, bedrock type, geologic belt, well depth into dummy variables for modeling. Check for interaction of belt and rock type to guage need for interaction - newly engineered crosstab variables"
   ]
  },
  {
   "cell_type": "code",
   "execution_count": 6,
   "metadata": {},
   "outputs": [
    {
     "data": {
      "text/plain": [
       "Kings Mountain Belt    319\n",
       "Charlotte Belt         278\n",
       "Inner Piedmont         129\n",
       "Name: belt2, dtype: int64"
      ]
     },
     "execution_count": 6,
     "metadata": {},
     "output_type": "execute_result"
    }
   ],
   "source": [
    "# Check category levels reflect original study\n",
    "gdf_ar['belt2'].value_counts()"
   ]
  },
  {
   "cell_type": "code",
   "execution_count": 7,
   "metadata": {},
   "outputs": [
    {
     "data": {
      "text/plain": [
       "Intrusive Rocks      400\n",
       "Metamorphic Rocks    326\n",
       "Name: type, dtype: int64"
      ]
     },
     "execution_count": 7,
     "metadata": {},
     "output_type": "execute_result"
    }
   ],
   "source": [
    "gdf_ar['type'].value_counts()"
   ]
  },
  {
   "cell_type": "code",
   "execution_count": 8,
   "metadata": {},
   "outputs": [
    {
     "data": {
      "text/html": [
       "<div>\n",
       "<style scoped>\n",
       "    .dataframe tbody tr th:only-of-type {\n",
       "        vertical-align: middle;\n",
       "    }\n",
       "\n",
       "    .dataframe tbody tr th {\n",
       "        vertical-align: top;\n",
       "    }\n",
       "\n",
       "    .dataframe thead th {\n",
       "        text-align: right;\n",
       "    }\n",
       "</style>\n",
       "<table border=\"1\" class=\"dataframe\">\n",
       "  <thead>\n",
       "    <tr style=\"text-align: right;\">\n",
       "      <th>type</th>\n",
       "      <th>Intrusive Rocks</th>\n",
       "      <th>Metamorphic Rocks</th>\n",
       "    </tr>\n",
       "    <tr>\n",
       "      <th>belt2</th>\n",
       "      <th></th>\n",
       "      <th></th>\n",
       "    </tr>\n",
       "  </thead>\n",
       "  <tbody>\n",
       "    <tr>\n",
       "      <th>Charlotte Belt</th>\n",
       "      <td>231</td>\n",
       "      <td>47</td>\n",
       "    </tr>\n",
       "    <tr>\n",
       "      <th>Inner Piedmont</th>\n",
       "      <td>31</td>\n",
       "      <td>98</td>\n",
       "    </tr>\n",
       "    <tr>\n",
       "      <th>Kings Mountain Belt</th>\n",
       "      <td>138</td>\n",
       "      <td>181</td>\n",
       "    </tr>\n",
       "  </tbody>\n",
       "</table>\n",
       "</div>"
      ],
      "text/plain": [
       "type                 Intrusive Rocks  Metamorphic Rocks\n",
       "belt2                                                  \n",
       "Charlotte Belt                   231                 47\n",
       "Inner Piedmont                    31                 98\n",
       "Kings Mountain Belt              138                181"
      ]
     },
     "execution_count": 8,
     "metadata": {},
     "output_type": "execute_result"
    }
   ],
   "source": [
    "# cross tabulate belt2 and type\n",
    "\n",
    "pd.crosstab(gdf_ar['belt2'], gdf_ar['type'])"
   ]
  },
  {
   "cell_type": "code",
   "execution_count": 9,
   "metadata": {},
   "outputs": [
    {
     "data": {
      "text/html": [
       "<div>\n",
       "<style scoped>\n",
       "    .dataframe tbody tr th:only-of-type {\n",
       "        vertical-align: middle;\n",
       "    }\n",
       "\n",
       "    .dataframe tbody tr th {\n",
       "        vertical-align: top;\n",
       "    }\n",
       "\n",
       "    .dataframe thead th {\n",
       "        text-align: right;\n",
       "    }\n",
       "</style>\n",
       "<table border=\"1\" class=\"dataframe\">\n",
       "  <thead>\n",
       "    <tr style=\"text-align: right;\">\n",
       "      <th></th>\n",
       "      <th>geocode</th>\n",
       "      <th>CZab</th>\n",
       "      <th>CZbg</th>\n",
       "      <th>CZbl</th>\n",
       "      <th>CZfv</th>\n",
       "      <th>CZg</th>\n",
       "      <th>CZms</th>\n",
       "      <th>DOg</th>\n",
       "      <th>Mc</th>\n",
       "      <th>OCg</th>\n",
       "      <th>PPmg</th>\n",
       "      <th>PzZq</th>\n",
       "      <th>Zbt</th>\n",
       "    </tr>\n",
       "    <tr>\n",
       "      <th>belt2</th>\n",
       "      <th>type</th>\n",
       "      <th></th>\n",
       "      <th></th>\n",
       "      <th></th>\n",
       "      <th></th>\n",
       "      <th></th>\n",
       "      <th></th>\n",
       "      <th></th>\n",
       "      <th></th>\n",
       "      <th></th>\n",
       "      <th></th>\n",
       "      <th></th>\n",
       "      <th></th>\n",
       "    </tr>\n",
       "  </thead>\n",
       "  <tbody>\n",
       "    <tr>\n",
       "      <th rowspan=\"2\" valign=\"top\">Charlotte Belt</th>\n",
       "      <th>Intrusive Rocks</th>\n",
       "      <td>0</td>\n",
       "      <td>0</td>\n",
       "      <td>0</td>\n",
       "      <td>0</td>\n",
       "      <td>27</td>\n",
       "      <td>0</td>\n",
       "      <td>36</td>\n",
       "      <td>0</td>\n",
       "      <td>0</td>\n",
       "      <td>0</td>\n",
       "      <td>168</td>\n",
       "      <td>0</td>\n",
       "    </tr>\n",
       "    <tr>\n",
       "      <th>Metamorphic Rocks</th>\n",
       "      <td>0</td>\n",
       "      <td>0</td>\n",
       "      <td>0</td>\n",
       "      <td>47</td>\n",
       "      <td>0</td>\n",
       "      <td>0</td>\n",
       "      <td>0</td>\n",
       "      <td>0</td>\n",
       "      <td>0</td>\n",
       "      <td>0</td>\n",
       "      <td>0</td>\n",
       "      <td>0</td>\n",
       "    </tr>\n",
       "    <tr>\n",
       "      <th rowspan=\"2\" valign=\"top\">Inner Piedmont</th>\n",
       "      <th>Intrusive Rocks</th>\n",
       "      <td>0</td>\n",
       "      <td>0</td>\n",
       "      <td>0</td>\n",
       "      <td>0</td>\n",
       "      <td>0</td>\n",
       "      <td>0</td>\n",
       "      <td>0</td>\n",
       "      <td>28</td>\n",
       "      <td>3</td>\n",
       "      <td>0</td>\n",
       "      <td>0</td>\n",
       "      <td>0</td>\n",
       "    </tr>\n",
       "    <tr>\n",
       "      <th>Metamorphic Rocks</th>\n",
       "      <td>5</td>\n",
       "      <td>3</td>\n",
       "      <td>0</td>\n",
       "      <td>0</td>\n",
       "      <td>0</td>\n",
       "      <td>90</td>\n",
       "      <td>0</td>\n",
       "      <td>0</td>\n",
       "      <td>0</td>\n",
       "      <td>0</td>\n",
       "      <td>0</td>\n",
       "      <td>0</td>\n",
       "    </tr>\n",
       "    <tr>\n",
       "      <th rowspan=\"2\" valign=\"top\">Kings Mountain Belt</th>\n",
       "      <th>Intrusive Rocks</th>\n",
       "      <td>0</td>\n",
       "      <td>0</td>\n",
       "      <td>0</td>\n",
       "      <td>0</td>\n",
       "      <td>0</td>\n",
       "      <td>0</td>\n",
       "      <td>0</td>\n",
       "      <td>2</td>\n",
       "      <td>0</td>\n",
       "      <td>128</td>\n",
       "      <td>8</td>\n",
       "      <td>0</td>\n",
       "    </tr>\n",
       "    <tr>\n",
       "      <th>Metamorphic Rocks</th>\n",
       "      <td>0</td>\n",
       "      <td>0</td>\n",
       "      <td>59</td>\n",
       "      <td>0</td>\n",
       "      <td>0</td>\n",
       "      <td>0</td>\n",
       "      <td>0</td>\n",
       "      <td>0</td>\n",
       "      <td>0</td>\n",
       "      <td>0</td>\n",
       "      <td>0</td>\n",
       "      <td>122</td>\n",
       "    </tr>\n",
       "  </tbody>\n",
       "</table>\n",
       "</div>"
      ],
      "text/plain": [
       "geocode                                CZab  CZbg  CZbl  CZfv  CZg  CZms  DOg  \\\n",
       "belt2               type                                                        \n",
       "Charlotte Belt      Intrusive Rocks       0     0     0     0   27     0   36   \n",
       "                    Metamorphic Rocks     0     0     0    47    0     0    0   \n",
       "Inner Piedmont      Intrusive Rocks       0     0     0     0    0     0    0   \n",
       "                    Metamorphic Rocks     5     3     0     0    0    90    0   \n",
       "Kings Mountain Belt Intrusive Rocks       0     0     0     0    0     0    0   \n",
       "                    Metamorphic Rocks     0     0    59     0    0     0    0   \n",
       "\n",
       "geocode                                Mc  OCg  PPmg  PzZq  Zbt  \n",
       "belt2               type                                         \n",
       "Charlotte Belt      Intrusive Rocks     0    0     0   168    0  \n",
       "                    Metamorphic Rocks   0    0     0     0    0  \n",
       "Inner Piedmont      Intrusive Rocks    28    3     0     0    0  \n",
       "                    Metamorphic Rocks   0    0     0     0    0  \n",
       "Kings Mountain Belt Intrusive Rocks     2    0   128     8    0  \n",
       "                    Metamorphic Rocks   0    0     0     0  122  "
      ]
     },
     "execution_count": 9,
     "metadata": {},
     "output_type": "execute_result"
    }
   ],
   "source": [
    "# cross tabulate belt2, type, and geocode\n",
    "\n",
    "pd.crosstab([gdf_ar['belt2'], gdf_ar['type']], gdf_ar['geocode'])"
   ]
  },
  {
   "attachments": {},
   "cell_type": "markdown",
   "metadata": {},
   "source": [
    "\n",
    "Simplify belt and rock type values"
   ]
  },
  {
   "cell_type": "code",
   "execution_count": 11,
   "metadata": {},
   "outputs": [],
   "source": [
    "# Simplify belt and rock type values\n",
    "# for belt2, Charlotte Belt = CB, \"Inner Piedmont\" = IP, \"Kings Mountain Belt\" = KM\n",
    "# for type Intrusive Rocks = IR, Metamorphic Rocks = MR\n",
    "\n",
    "gdf_ar['belt2'] = gdf_ar['belt2'].replace(['Charlotte Belt', 'Inner Piedmont', 'Kings Mountain Belt'], ['CB', 'IP', 'KM'])\n",
    "gdf_ar['type'] = gdf_ar['type'].replace(['Intrusive Rocks', 'Metamorphic Rocks'], ['IR', 'MR'])\n",
    "\n"
   ]
  },
  {
   "attachments": {},
   "cell_type": "markdown",
   "metadata": {},
   "source": [
    "Crossing belt with rock type would result in 6 columns, whereas the formation code provides more granularity with 12 columns"
   ]
  },
  {
   "cell_type": "code",
   "execution_count": 12,
   "metadata": {},
   "outputs": [
    {
     "data": {
      "text/plain": [
       "CB_IR    231\n",
       "KM_MR    181\n",
       "KM_IR    138\n",
       "IP_MR     98\n",
       "CB_MR     47\n",
       "IP_IR     31\n",
       "Name: belt_type, dtype: int64"
      ]
     },
     "execution_count": 12,
     "metadata": {},
     "output_type": "execute_result"
    }
   ],
   "source": [
    "# create new variable combining belt and rock type\n",
    "\n",
    "gdf_ar['belt_type'] = gdf_ar['belt2'] + '_' + gdf_ar['type']\n",
    "\n",
    "gdf_ar['belt_type'].value_counts()"
   ]
  },
  {
   "attachments": {},
   "cell_type": "markdown",
   "metadata": {},
   "source": [
    "---\n",
    "\n",
    "Delete everything below once proper data with full well depth and pH is obtained"
   ]
  },
  {
   "cell_type": "code",
   "execution_count": 15,
   "metadata": {},
   "outputs": [],
   "source": [
    "# if depth is missing, replace with 0 for now\n",
    "\n",
    "gdf_ar['depth'].fillna(200, inplace=True)\n",
    "\n",
    "# if pH is missing or equal to 0, replace with 7 for now\n",
    "\n",
    "gdf_ar['ph'].fillna(7, inplace=True)\n",
    "\n",
    "gdf_ar['ph'].replace(0, 7, inplace=True)"
   ]
  },
  {
   "attachments": {},
   "cell_type": "markdown",
   "metadata": {},
   "source": [
    "---"
   ]
  },
  {
   "cell_type": "markdown",
   "metadata": {},
   "source": []
  },
  {
   "cell_type": "code",
   "execution_count": null,
   "metadata": {},
   "outputs": [],
   "source": [
    "# Create categorical variable for well depth, per the study, where depth categories are <150, 150-300, and 300+\n",
    "\n",
    "gdf_ar['depth_cat'] = pd.cut(gdf_ar['depth'], bins=[0, 150, 300, 1000], labels=['<150', '150-300', '300+'])"
   ]
  },
  {
   "cell_type": "code",
   "execution_count": null,
   "metadata": {},
   "outputs": [],
   "source": [
    "# create dummy variables for belt_type, geocode, depth_cat, and group\n",
    "\n",
    "gdf_ar = pd.get_dummies(gdf_ar, columns=['belt_type', 'geocode', 'depth_cat', 'group'])\n",
    "\n"
   ]
  }
 ],
 "metadata": {
  "kernelspec": {
   "display_name": "pygis",
   "language": "python",
   "name": "python3"
  },
  "language_info": {
   "codemirror_mode": {
    "name": "ipython",
    "version": 3
   },
   "file_extension": ".py",
   "mimetype": "text/x-python",
   "name": "python",
   "nbconvert_exporter": "python",
   "pygments_lexer": "ipython3",
   "version": "3.8.12"
  },
  "orig_nbformat": 4
 },
 "nbformat": 4,
 "nbformat_minor": 2
}
